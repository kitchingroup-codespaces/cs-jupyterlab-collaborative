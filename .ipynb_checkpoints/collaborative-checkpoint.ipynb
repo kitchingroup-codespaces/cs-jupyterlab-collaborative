{
 "cells": [
  {
   "cell_type": "code",
   "execution_count": 1,
   "id": "43978329-b7c1-4755-980d-a50d0fbc4bb8",
   "metadata": {
    "tags": []
   },
   "outputs": [
    {
     "data": {
      "text/plain": [
       "'Wed Jun 15 16:30:52 2022'"
      ]
     },
     "execution_count": 1,
     "metadata": {},
     "output_type": "execute_result"
    }
   ],
   "source": [
    "import time\n",
    "time.asctime()"
   ]
  },
  {
   "cell_type": "code",
   "execution_count": 1,
   "id": "2eb44b5b-9519-462a-8463-725723a38bdf",
   "metadata": {},
   "outputs": [
    {
     "name": "stdout",
     "output_type": "stream",
     "text": [
      "6\n"
     ]
    }
   ],
   "source": [
    "print(6)"
   ]
  },
  {
   "cell_type": "code",
   "execution_count": 2,
   "id": "52281439-acbc-4a31-8f28-9ec4bef2663d",
   "metadata": {},
   "outputs": [
    {
     "name": "stdout",
     "output_type": "stream",
     "text": [
      "Hello world\n"
     ]
    }
   ],
   "source": [
    "print('Hello ' + 'world')"
   ]
  },
  {
   "cell_type": "code",
   "execution_count": 4,
   "id": "b8e41b07-0988-48cc-b952-93facbe4439b",
   "metadata": {},
   "outputs": [],
   "source": [
    "import plotly"
   ]
  },
  {
   "cell_type": "markdown",
   "id": "cde3363e-76a7-4ed8-88b2-55be7cf2671d",
   "metadata": {},
   "source": [
    "See [this notebook](./linked-notebook.ipynb) for more. "
   ]
  },
  {
   "cell_type": "code",
   "execution_count": null,
   "id": "0147da74-898c-48e6-8b56-0e58f6de1754",
   "metadata": {},
   "outputs": [],
   "source": []
  }
 ],
 "metadata": {
  "kernelspec": {
   "display_name": "Python 3 (ipykernel)",
   "language": "python",
   "name": "python3"
  },
  "language_info": {
   "codemirror_mode": {
    "name": "ipython",
    "version": 3
   },
   "file_extension": ".py",
   "mimetype": "text/x-python",
   "name": "python",
   "nbconvert_exporter": "python",
   "pygments_lexer": "ipython3",
   "version": "3.9.7"
  }
 },
 "nbformat": 4,
 "nbformat_minor": 5
}
